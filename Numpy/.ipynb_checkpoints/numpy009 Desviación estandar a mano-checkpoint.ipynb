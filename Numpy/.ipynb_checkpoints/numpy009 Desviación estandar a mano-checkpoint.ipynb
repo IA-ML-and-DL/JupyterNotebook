{
 "cells": [
  {
   "cell_type": "code",
   "execution_count": 1,
   "metadata": {},
   "outputs": [],
   "source": [
    "import numpy as np"
   ]
  },
  {
   "cell_type": "code",
   "execution_count": 3,
   "metadata": {},
   "outputs": [
    {
     "data": {
      "text/plain": [
       "array([[18, 18, 10, 17,  5,  8,  8,  5, 16, 15],\n",
       "       [ 1, 15,  6,  7, 15,  0,  1, 13, 18, 17],\n",
       "       [17, 19, 14,  5,  6,  8, 12, 17,  2, 13],\n",
       "       [12,  0,  7,  7,  0,  1, 14, 18, 10, 14],\n",
       "       [19,  0, 19, 18,  9, 19, 10, 12, 10,  2],\n",
       "       [13,  5,  9,  0,  1,  4, 10,  1,  9,  8],\n",
       "       [13,  5, 16, 15,  3,  9,  8, 14,  8, 11],\n",
       "       [ 0,  8, 10, 15,  4, 10, 19, 19,  7,  7],\n",
       "       [ 5, 15, 16,  5,  8, 19,  1,  2,  7, 18],\n",
       "       [16,  9,  8, 19,  4, 15, 11, 10, 13, 11]])"
      ]
     },
     "execution_count": 3,
     "metadata": {},
     "output_type": "execute_result"
    }
   ],
   "source": [
    "arr = np.random.randint(0, 20, (10, 10))\n",
    "arr"
   ]
  },
  {
   "cell_type": "markdown",
   "metadata": {},
   "source": [
    "### 1. Calculaos el promediopor fila"
   ]
  },
  {
   "cell_type": "code",
   "execution_count": 10,
   "metadata": {},
   "outputs": [
    {
     "data": {
      "text/plain": [
       "array([[12. ],\n",
       "       [ 9.3],\n",
       "       [11.3],\n",
       "       [ 8.3],\n",
       "       [11.8],\n",
       "       [ 6. ],\n",
       "       [10.2],\n",
       "       [ 9.9],\n",
       "       [ 9.6],\n",
       "       [11.6]])"
      ]
     },
     "execution_count": 10,
     "metadata": {},
     "output_type": "execute_result"
    }
   ],
   "source": [
    "promFila = arr.mean(axis=1, keepdims=True) # keepdims para que amntenga las dimenciones\n",
    "promFila"
   ]
  },
  {
   "cell_type": "code",
   "execution_count": 11,
   "metadata": {},
   "outputs": [
    {
     "data": {
      "text/plain": [
       "(10, 1)"
      ]
     },
     "execution_count": 11,
     "metadata": {},
     "output_type": "execute_result"
    }
   ],
   "source": [
    "promFila.shape"
   ]
  },
  {
   "cell_type": "markdown",
   "metadata": {},
   "source": [
    "### 2. Restar cada elemento del promedio"
   ]
  },
  {
   "cell_type": "code",
   "execution_count": 17,
   "metadata": {},
   "outputs": [
    {
     "data": {
      "text/plain": [
       "array([[  6. ,   6. ,  -2. ,   5. ,  -7. ,  -4. ,  -4. ,  -7. ,   4. ,\n",
       "          3. ],\n",
       "       [ -8.3,   5.7,  -3.3,  -2.3,   5.7,  -9.3,  -8.3,   3.7,   8.7,\n",
       "          7.7],\n",
       "       [  5.7,   7.7,   2.7,  -6.3,  -5.3,  -3.3,   0.7,   5.7,  -9.3,\n",
       "          1.7],\n",
       "       [  3.7,  -8.3,  -1.3,  -1.3,  -8.3,  -7.3,   5.7,   9.7,   1.7,\n",
       "          5.7],\n",
       "       [  7.2, -11.8,   7.2,   6.2,  -2.8,   7.2,  -1.8,   0.2,  -1.8,\n",
       "         -9.8],\n",
       "       [  7. ,  -1. ,   3. ,  -6. ,  -5. ,  -2. ,   4. ,  -5. ,   3. ,\n",
       "          2. ],\n",
       "       [  2.8,  -5.2,   5.8,   4.8,  -7.2,  -1.2,  -2.2,   3.8,  -2.2,\n",
       "          0.8],\n",
       "       [ -9.9,  -1.9,   0.1,   5.1,  -5.9,   0.1,   9.1,   9.1,  -2.9,\n",
       "         -2.9],\n",
       "       [ -4.6,   5.4,   6.4,  -4.6,  -1.6,   9.4,  -8.6,  -7.6,  -2.6,\n",
       "          8.4],\n",
       "       [  4.4,  -2.6,  -3.6,   7.4,  -7.6,   3.4,  -0.6,  -1.6,   1.4,\n",
       "         -0.6]])"
      ]
     },
     "execution_count": 17,
     "metadata": {},
     "output_type": "execute_result"
    }
   ],
   "source": [
    "xiMenosProm = arr - promFila # existe una correspndencia entre el indice del arr y el del promFila, el numero de filas debe ser igual\n",
    "xiMenosProm"
   ]
  },
  {
   "cell_type": "markdown",
   "metadata": {},
   "source": [
    "### 3. Elevamos al cuadrado cada elemento"
   ]
  },
  {
   "cell_type": "code",
   "execution_count": 18,
   "metadata": {},
   "outputs": [
    {
     "data": {
      "text/plain": [
       "array([[3.6000e+01, 3.6000e+01, 4.0000e+00, 2.5000e+01, 4.9000e+01,\n",
       "        1.6000e+01, 1.6000e+01, 4.9000e+01, 1.6000e+01, 9.0000e+00],\n",
       "       [6.8890e+01, 3.2490e+01, 1.0890e+01, 5.2900e+00, 3.2490e+01,\n",
       "        8.6490e+01, 6.8890e+01, 1.3690e+01, 7.5690e+01, 5.9290e+01],\n",
       "       [3.2490e+01, 5.9290e+01, 7.2900e+00, 3.9690e+01, 2.8090e+01,\n",
       "        1.0890e+01, 4.9000e-01, 3.2490e+01, 8.6490e+01, 2.8900e+00],\n",
       "       [1.3690e+01, 6.8890e+01, 1.6900e+00, 1.6900e+00, 6.8890e+01,\n",
       "        5.3290e+01, 3.2490e+01, 9.4090e+01, 2.8900e+00, 3.2490e+01],\n",
       "       [5.1840e+01, 1.3924e+02, 5.1840e+01, 3.8440e+01, 7.8400e+00,\n",
       "        5.1840e+01, 3.2400e+00, 4.0000e-02, 3.2400e+00, 9.6040e+01],\n",
       "       [4.9000e+01, 1.0000e+00, 9.0000e+00, 3.6000e+01, 2.5000e+01,\n",
       "        4.0000e+00, 1.6000e+01, 2.5000e+01, 9.0000e+00, 4.0000e+00],\n",
       "       [7.8400e+00, 2.7040e+01, 3.3640e+01, 2.3040e+01, 5.1840e+01,\n",
       "        1.4400e+00, 4.8400e+00, 1.4440e+01, 4.8400e+00, 6.4000e-01],\n",
       "       [9.8010e+01, 3.6100e+00, 1.0000e-02, 2.6010e+01, 3.4810e+01,\n",
       "        1.0000e-02, 8.2810e+01, 8.2810e+01, 8.4100e+00, 8.4100e+00],\n",
       "       [2.1160e+01, 2.9160e+01, 4.0960e+01, 2.1160e+01, 2.5600e+00,\n",
       "        8.8360e+01, 7.3960e+01, 5.7760e+01, 6.7600e+00, 7.0560e+01],\n",
       "       [1.9360e+01, 6.7600e+00, 1.2960e+01, 5.4760e+01, 5.7760e+01,\n",
       "        1.1560e+01, 3.6000e-01, 2.5600e+00, 1.9600e+00, 3.6000e-01]])"
      ]
     },
     "execution_count": 18,
     "metadata": {},
     "output_type": "execute_result"
    }
   ],
   "source": [
    "xiMenosPromCuadrado = xiMenosProm ** 2\n",
    "xiMenosPromCuadrado"
   ]
  },
  {
   "cell_type": "markdown",
   "metadata": {},
   "source": [
    "### 4. Hacemos la sumatoria hacia la derecha"
   ]
  },
  {
   "cell_type": "code",
   "execution_count": 20,
   "metadata": {},
   "outputs": [
    {
     "data": {
      "text/plain": [
       "array([[256. ],\n",
       "       [454.1],\n",
       "       [300.1],\n",
       "       [370.1],\n",
       "       [443.6],\n",
       "       [178. ],\n",
       "       [169.6],\n",
       "       [344.9],\n",
       "       [412.4],\n",
       "       [168.4]])"
      ]
     },
     "execution_count": 20,
     "metadata": {},
     "output_type": "execute_result"
    }
   ],
   "source": [
    "xiMenosPromCuadradoSuma = xiMenosPromCuadrado.sum(axis=1, keepdims=True)\n",
    "xiMenosPromCuadradoSuma"
   ]
  },
  {
   "cell_type": "markdown",
   "metadata": {},
   "source": [
    "### 5. Dividimos entre n-1"
   ]
  },
  {
   "cell_type": "code",
   "execution_count": 25,
   "metadata": {},
   "outputs": [
    {
     "data": {
      "text/plain": [
       "array([[28.44444444],\n",
       "       [50.45555556],\n",
       "       [33.34444444],\n",
       "       [41.12222222],\n",
       "       [49.28888889],\n",
       "       [19.77777778],\n",
       "       [18.84444444],\n",
       "       [38.32222222],\n",
       "       [45.82222222],\n",
       "       [18.71111111]])"
      ]
     },
     "execution_count": 25,
     "metadata": {},
     "output_type": "execute_result"
    }
   ],
   "source": [
    "xiMenosPromCuadradoSumaEntreN1 = xiMenosPromCuadradoSuma / (xiMenosPromCuadradoSuma.size - 1)\n",
    "xiMenosPromCuadradoSumaEntreN1"
   ]
  },
  {
   "cell_type": "markdown",
   "metadata": {},
   "source": [
    "### 6. Aplicar la raiz cuadrada"
   ]
  },
  {
   "cell_type": "code",
   "execution_count": 27,
   "metadata": {},
   "outputs": [
    {
     "data": {
      "text/plain": [
       "array([[5.33333333],\n",
       "       [7.10320741],\n",
       "       [5.77446486],\n",
       "       [6.41266109],\n",
       "       [7.0206046 ],\n",
       "       [4.44722135],\n",
       "       [4.34101883],\n",
       "       [6.19049451],\n",
       "       [6.76921134],\n",
       "       [4.32563419]])"
      ]
     },
     "execution_count": 27,
     "metadata": {},
     "output_type": "execute_result"
    }
   ],
   "source": [
    "xiMenosPromCuadradoSumaEntreN1Raiz = xiMenosPromCuadradoSumaEntreN1 ** 0.5\n",
    "xiMenosPromCuadradoSumaEntreN1Raiz # desviación estandar para cada fila"
   ]
  },
  {
   "cell_type": "code",
   "execution_count": null,
   "metadata": {},
   "outputs": [],
   "source": []
  }
 ],
 "metadata": {
  "kernelspec": {
   "display_name": "Python 3",
   "language": "python",
   "name": "python3"
  },
  "language_info": {
   "codemirror_mode": {
    "name": "ipython",
    "version": 3
   },
   "file_extension": ".py",
   "mimetype": "text/x-python",
   "name": "python",
   "nbconvert_exporter": "python",
   "pygments_lexer": "ipython3",
   "version": "3.7.3"
  }
 },
 "nbformat": 4,
 "nbformat_minor": 2
}
