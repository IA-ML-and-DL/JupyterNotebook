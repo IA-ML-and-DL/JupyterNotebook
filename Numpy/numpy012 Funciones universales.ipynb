{
 "cells": [
  {
   "cell_type": "code",
   "execution_count": 1,
   "metadata": {},
   "outputs": [],
   "source": [
    "import numpy as np"
   ]
  },
  {
   "cell_type": "markdown",
   "metadata": {},
   "source": [
    "# Funciones Universales"
   ]
  },
  {
   "cell_type": "markdown",
   "metadata": {},
   "source": [
    "### Caracteristicas\n",
    "- Presentan Broadcasting: Convenciones internas de Numpypara aplicar operaciones entre filas, columnas y matrices\n",
    "- Especializadas con código vectorizado (rápido y eficiente)\n",
    "- Funciones Puras, mismo valor si ingresamos el mismo input\n",
    "- Otros aspectos como type casting, argumentos utiles, etc"
   ]
  },
  {
   "cell_type": "markdown",
   "metadata": {},
   "source": [
    "# Broadcasting entre filas"
   ]
  },
  {
   "cell_type": "code",
   "execution_count": 10,
   "metadata": {},
   "outputs": [
    {
     "data": {
      "text/plain": [
       "array([ 0.  ,  1.53,  3.06,  4.59,  6.12,  7.65,  9.18, 10.71, 12.24,\n",
       "       13.78, 15.31, 16.84, 18.37, 19.9 , 21.43, 22.96, 24.49, 26.02,\n",
       "       27.55, 29.08, 30.61, 32.14, 33.67, 35.2 , 36.73, 38.27, 39.8 ,\n",
       "       41.33, 42.86, 44.39, 45.92, 47.45, 48.98, 50.51, 52.04, 53.57,\n",
       "       55.1 , 56.63, 58.16, 59.69, 61.22, 62.76, 64.29, 65.82, 67.35,\n",
       "       68.88, 70.41, 71.94, 73.47, 75.  ])"
      ]
     },
     "execution_count": 10,
     "metadata": {},
     "output_type": "execute_result"
    }
   ],
   "source": [
    "arr1 = np.linspace(0, 75).round(2)\n",
    "arr1"
   ]
  },
  {
   "cell_type": "code",
   "execution_count": 21,
   "metadata": {},
   "outputs": [
    {
     "data": {
      "text/plain": [
       "array([ 0.  ,  1.02,  2.04,  3.06,  4.08,  5.1 ,  6.12,  7.14,  8.16,\n",
       "        9.18, 10.2 , 11.22, 12.24, 13.27, 14.29, 15.31, 16.33, 17.35,\n",
       "       18.37, 19.39, 20.41, 21.43, 22.45, 23.47, 24.49, 25.51, 26.53,\n",
       "       27.55, 28.57, 29.59, 30.61, 31.63, 32.65, 33.67, 34.69, 35.71,\n",
       "       36.73, 37.76, 38.78, 39.8 , 40.82, 41.84, 42.86, 43.88, 44.9 ,\n",
       "       45.92, 46.94, 47.96, 48.98, 50.  ])"
      ]
     },
     "execution_count": 21,
     "metadata": {},
     "output_type": "execute_result"
    }
   ],
   "source": [
    "arr2 = np.linspace(0, 50).round(2)\n",
    "arr2"
   ]
  },
  {
   "cell_type": "code",
   "execution_count": 23,
   "metadata": {},
   "outputs": [
    {
     "data": {
      "text/plain": [
       "array([0.0000000e+00, 1.5606000e+00, 6.2424000e+00, 1.4045400e+01,\n",
       "       2.4969600e+01, 3.9015000e+01, 5.6181600e+01, 7.6469400e+01,\n",
       "       9.9878400e+01, 1.2650040e+02, 1.5616200e+02, 1.8894480e+02,\n",
       "       2.2484880e+02, 2.6407300e+02, 3.0623470e+02, 3.5151760e+02,\n",
       "       3.9992170e+02, 4.5144700e+02, 5.0609350e+02, 5.6386120e+02,\n",
       "       6.2475010e+02, 6.8876020e+02, 7.5589150e+02, 8.2614400e+02,\n",
       "       8.9951770e+02, 9.7626770e+02, 1.0558940e+03, 1.1386415e+03,\n",
       "       1.2245102e+03, 1.3135001e+03, 1.4056112e+03, 1.5008435e+03,\n",
       "       1.5991970e+03, 1.7006717e+03, 1.8052676e+03, 1.9129847e+03,\n",
       "       2.0238230e+03, 2.1383488e+03, 2.2554448e+03, 2.3756620e+03,\n",
       "       2.4990004e+03, 2.6258784e+03, 2.7554694e+03, 2.8881816e+03,\n",
       "       3.0240150e+03, 3.1629696e+03, 3.3050454e+03, 3.4502424e+03,\n",
       "       3.5985606e+03, 3.7500000e+03])"
      ]
     },
     "execution_count": 23,
     "metadata": {},
     "output_type": "execute_result"
    }
   ],
   "source": [
    "arr1 * arr2 # esto llama la funcion universal"
   ]
  },
  {
   "cell_type": "markdown",
   "metadata": {},
   "source": [
    "### np.multiply()"
   ]
  },
  {
   "cell_type": "code",
   "execution_count": 26,
   "metadata": {},
   "outputs": [
    {
     "data": {
      "text/plain": [
       "array([0.0000000e+00, 1.5606000e+00, 6.2424000e+00, 1.4045400e+01,\n",
       "       2.4969600e+01, 3.9015000e+01, 5.6181600e+01, 7.6469400e+01,\n",
       "       9.9878400e+01, 1.2650040e+02, 1.5616200e+02, 1.8894480e+02,\n",
       "       2.2484880e+02, 2.6407300e+02, 3.0623470e+02, 3.5151760e+02,\n",
       "       3.9992170e+02, 4.5144700e+02, 5.0609350e+02, 5.6386120e+02,\n",
       "       6.2475010e+02, 6.8876020e+02, 7.5589150e+02, 8.2614400e+02,\n",
       "       8.9951770e+02, 9.7626770e+02, 1.0558940e+03, 1.1386415e+03,\n",
       "       1.2245102e+03, 1.3135001e+03, 1.4056112e+03, 1.5008435e+03,\n",
       "       1.5991970e+03, 1.7006717e+03, 1.8052676e+03, 1.9129847e+03,\n",
       "       2.0238230e+03, 2.1383488e+03, 2.2554448e+03, 2.3756620e+03,\n",
       "       2.4990004e+03, 2.6258784e+03, 2.7554694e+03, 2.8881816e+03,\n",
       "       3.0240150e+03, 3.1629696e+03, 3.3050454e+03, 3.4502424e+03,\n",
       "       3.5985606e+03, 3.7500000e+03])"
      ]
     },
     "execution_count": 26,
     "metadata": {},
     "output_type": "execute_result"
    }
   ],
   "source": [
    "np.multiply(arr1, arr2)\n",
    "# Broadcasting entre vectores, realiza la operación entre elementos de las mismas posiciones"
   ]
  },
  {
   "cell_type": "markdown",
   "metadata": {},
   "source": [
    "### Broadcast entre columnas\n",
    "```python\n",
    "np.subtract(a, b)\n",
    "```"
   ]
  },
  {
   "cell_type": "code",
   "execution_count": 40,
   "metadata": {},
   "outputs": [
    {
     "data": {
      "text/plain": [
       "array([[ 0.  ],\n",
       "       [ 0.51],\n",
       "       [ 1.02],\n",
       "       [ 1.53],\n",
       "       [ 2.04],\n",
       "       [ 2.55],\n",
       "       [ 3.06],\n",
       "       [ 3.57],\n",
       "       [ 4.08],\n",
       "       [ 4.6 ],\n",
       "       [ 5.11],\n",
       "       [ 5.62],\n",
       "       [ 6.13],\n",
       "       [ 6.63],\n",
       "       [ 7.14],\n",
       "       [ 7.65],\n",
       "       [ 8.16],\n",
       "       [ 8.67],\n",
       "       [ 9.18],\n",
       "       [ 9.69],\n",
       "       [10.2 ],\n",
       "       [10.71],\n",
       "       [11.22],\n",
       "       [11.73],\n",
       "       [12.24],\n",
       "       [12.76],\n",
       "       [13.27],\n",
       "       [13.78],\n",
       "       [14.29],\n",
       "       [14.8 ],\n",
       "       [15.31],\n",
       "       [15.82],\n",
       "       [16.33],\n",
       "       [16.84],\n",
       "       [17.35],\n",
       "       [17.86],\n",
       "       [18.37],\n",
       "       [18.87],\n",
       "       [19.38],\n",
       "       [19.89],\n",
       "       [20.4 ],\n",
       "       [20.92],\n",
       "       [21.43],\n",
       "       [21.94],\n",
       "       [22.45],\n",
       "       [22.96],\n",
       "       [23.47],\n",
       "       [23.98],\n",
       "       [24.49],\n",
       "       [25.  ]])"
      ]
     },
     "execution_count": 40,
     "metadata": {},
     "output_type": "execute_result"
    }
   ],
   "source": [
    "arr3 = arr1.copy().reshape(50, 1)\n",
    "arr4 = arr2.copy().reshape(50, 1)\n",
    "np.subtract(arr3, arr4) # existe la correspondencia elemento por elemento respetando las mismas posiciones\n",
    "# cuando se suministran dos columnas o mas este broadcasting no funciona igual, por eso se hizo sobre una columna"
   ]
  },
  {
   "cell_type": "markdown",
   "metadata": {},
   "source": [
    "## Broadcast entre filas y columnas\n",
    "````python\n",
    "np.logaddexp()\n",
    "```"
   ]
  },
  {
   "cell_type": "code",
   "execution_count": 41,
   "metadata": {},
   "outputs": [
    {
     "data": {
      "text/plain": [
       "array([[ 0.69314718,  1.7260072 ,  3.10582166, ..., 71.94      ,\n",
       "        73.47      , 75.        ],\n",
       "       [ 1.7260072 ,  2.22314718,  3.2560072 , ..., 71.94      ,\n",
       "        73.47      , 75.        ],\n",
       "       [ 3.10582166,  3.2560072 ,  3.75314718, ..., 71.94      ,\n",
       "        73.47      , 75.        ],\n",
       "       ...,\n",
       "       [71.94      , 71.94      , 71.94      , ..., 72.63314718,\n",
       "        73.6660072 , 75.04582166],\n",
       "       [73.47      , 73.47      , 73.47      , ..., 73.6660072 ,\n",
       "        74.16314718, 75.1960072 ],\n",
       "       [75.        , 75.        , 75.        , ..., 75.04582166,\n",
       "        75.1960072 , 75.69314718]])"
      ]
     },
     "execution_count": 41,
     "metadata": {},
     "output_type": "execute_result"
    }
   ],
   "source": [
    "np.logaddexp(arr1, arr3)"
   ]
  },
  {
   "cell_type": "code",
   "execution_count": 42,
   "metadata": {},
   "outputs": [
    {
     "data": {
      "text/plain": [
       "(50, 50)"
      ]
     },
     "execution_count": 42,
     "metadata": {},
     "output_type": "execute_result"
    }
   ],
   "source": [
    "np.logaddexp(arr1, arr3).shape"
   ]
  },
  {
   "cell_type": "markdown",
   "metadata": {},
   "source": [
    "NOTA: \n",
    "El broadcast entre filas y columnas NO es lo mismo que la multiplicación de matrices, en donde la forma de las matrices juegan un papel necesario para la aplicación de las mismas así como de su resultado."
   ]
  },
  {
   "cell_type": "code",
   "execution_count": null,
   "metadata": {},
   "outputs": [],
   "source": []
  }
 ],
 "metadata": {
  "kernelspec": {
   "display_name": "Python 3",
   "language": "python",
   "name": "python3"
  },
  "language_info": {
   "codemirror_mode": {
    "name": "ipython",
    "version": 3
   },
   "file_extension": ".py",
   "mimetype": "text/x-python",
   "name": "python",
   "nbconvert_exporter": "python",
   "pygments_lexer": "ipython3",
   "version": "3.7.3"
  }
 },
 "nbformat": 4,
 "nbformat_minor": 2
}
