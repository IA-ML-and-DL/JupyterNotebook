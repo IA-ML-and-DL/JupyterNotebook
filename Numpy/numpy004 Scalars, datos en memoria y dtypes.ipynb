{
 "cells": [
  {
   "cell_type": "markdown",
   "metadata": {},
   "source": [
    "## Scalars\n",
    "\n",
    "\n",
    "Un Scalar en Numpy, en general, significa el tipo de dato, y solamente eso, que tiene la matriz en sus elementos.\n",
    "\n",
    "Python ha definido tipos de datos, pero Numpy ha derivado y construido 24 tipos distintos de datos. Esto es para darle más flexibilidad al análisis de datos que requiren los usuarios.\n",
    "\n",
    "Por ejemplo, mientras que en Python existe el tipo de dato \"entero\", en Numpy hay dos grandes subtitpos, cada uno con ¡5 tipos de enteros!\n",
    "\n",
    "Entonces, los Scalars en Numpy se refieren al tipo de dato, los cuales son más numerosos que los primtivos de Python.\n",
    "\n",
    "Para tu información, los Scalars comparten los mismos atributos y métodos con que derivan las matrices desde np.ndarray, como ya veremos más adelante.\n",
    "\n",
    "También puedes crear tu propio Scalar, pero siendo que esto es muy avanzado y que desde el principio Numpy nos ofrece más de 20 tipos de Scalars, es probable que no necesites crear otro Scalar distinto.\n",
    "\n",
    "Para terminar de entender los Scalars en Numpy, puedes correr este interesante código:\n",
    "\n",
    "\n",
    "```python\n",
    "import numpy as np\n",
    "np.array([1,2,3])[0]  #  ===> 1\n",
    "isinstance(np.array([1,2,3])[0], np.integer)  #  ===> True # extraer un número de un Numpy array, deriva un Scalar\n",
    "type(np.array([1,2,3])[0])   #  ===> numpy.int32\n",
    "1  #  ===> 1\n",
    "isinstance(1, np.integer)  #  ===> False # número entero primitivo de Python, no deriva un Scalar\n",
    "type(1)  #  ===> int # un simple número entero primitivo de Python\n",
    "```\n"
   ]
  },
  {
   "cell_type": "code",
   "execution_count": 4,
   "metadata": {},
   "outputs": [
    {
     "data": {
      "text/plain": [
       "int"
      ]
     },
     "execution_count": 4,
     "metadata": {},
     "output_type": "execute_result"
    }
   ],
   "source": [
    "import numpy as np\n",
    "\n",
    "np.array([1,2,3])[0]  #  ===> 1\n",
    "isinstance(np.array([1,2,3])[0], np.integer)  #  ===> True # extraer un número de un Numpy array, deriva un Scalar\n",
    "\n",
    "type(np.array([1,2,3])[0])   #  ===> numpy.int32\n",
    "\n",
    "1  #  ===> 1\n",
    "isinstance(1, np.integer)  #  ===> False # número entero primitivo de Python, no deriva un Scalar\n",
    "type(1)  #  ===> int # un simple número entero primitivo de Python"
   ]
  },
  {
   "cell_type": "markdown",
   "metadata": {},
   "source": [
    "### Cómo maneja numpy los datos en memoria?\n",
    "\n",
    "¿Alguna vez te has preguntado cómo \"están\" los números dentro de la PC? ¿O, en la memoria?\n",
    "\n",
    "Pues Numpy comparte mucho de la forma en que cualquier dato reside en las memorias de cualquier PC.\n",
    "\n",
    "En general, una matriz ocupa un segmento uni-dimensional en las memorias de la computadoras, junto con un esquema de indexación (cómo seleccionar sus datos), el cual \"mapea\" los datos con este indicador.\n",
    "\n",
    "Entonces lo que ha hecho Numpy, para almacenar matrices de mayores dimensiones que 1, es establecer la forma en que se \"mapeará\" estas matrices multi-dimensionales en espacios uni-dimensionales.\n",
    "\n",
    "El atributo más importante en este tema es .strides. Esto significa los \"saltos\" en bytes en cada dimensión cuando se recorre un array.\n",
    "\n",
    "Para terminar de entender esta lección, corre es interesante código:\n",
    "\n",
    "```python\n",
    "arr1 = np.array([1,2,3])\n",
    "arr1\n",
    "arr1.itemsize, arr1.size, arr1.nbytes    # 4, 3, 12\n",
    "arr1.strides    # 4 ===> Como es una matriz unidimensional, no hay \"saltos\" para ir a otra dimensión\n",
    " \n",
    "arr2 = np.array([[1,2,3],[4,5,6]])\n",
    "arr2\n",
    "arr2.itemsize, arr2.size, arr2.nbytes    # 4, 6, 24\n",
    "arr2.strides    # 12, 4 ===> Como acá sí hay más de una dimensión, para recorrer la matriz, se debe de avanzar tanto en columnas (4) como en filas (12).\n",
    "```"
   ]
  },
  {
   "cell_type": "code",
   "execution_count": 6,
   "metadata": {},
   "outputs": [
    {
     "data": {
      "text/plain": [
       "(12, 4)"
      ]
     },
     "execution_count": 6,
     "metadata": {},
     "output_type": "execute_result"
    }
   ],
   "source": [
    "arr1 = np.array([1,2,3])\n",
    "arr1\n",
    "arr1.itemsize, arr1.size, arr1.nbytes    # 4, 3, 12\n",
    "arr1.strides    # 4 ===> Como es una matriz unidimensional, no hay \"saltos\" para ir a otra dimensión\n",
    " \n",
    "arr2 = np.array([[1,2,3],[4,5,6]])\n",
    "arr2\n",
    "arr2.itemsize, arr2.size, arr2.nbytes    # 4, 6, 24\n",
    "arr2.strides    # 12, 4 ===> Como acá sí hay más de una dimensión, para recorrer la matriz, se debe de avanzar tanto en columnas (4) como en filas (12)."
   ]
  },
  {
   "cell_type": "markdown",
   "metadata": {},
   "source": [
    "### Dtypes\n",
    "\n",
    "Los dtypes son objetos de Numpy, que contienen la información de los Scalars y más.\n",
    "\n",
    "Por lo tanto, podemos decir que los Scalars están contenidos en los dtypes, pero no a la inversa.\n",
    "\n",
    "La información adicional que incluye los dtypes es:\n",
    "\n",
    "- El Scalar (tipo de dato),\n",
    "\n",
    "- Tamaño del dato,\n",
    "\n",
    "- El orden del dato en la memoria,\n",
    "\n",
    "- Otra información de estructuras complejas de Numpy"
   ]
  },
  {
   "cell_type": "code",
   "execution_count": null,
   "metadata": {},
   "outputs": [],
   "source": []
  }
 ],
 "metadata": {
  "kernelspec": {
   "display_name": "Python 3",
   "language": "python",
   "name": "python3"
  },
  "language_info": {
   "codemirror_mode": {
    "name": "ipython",
    "version": 3
   },
   "file_extension": ".py",
   "mimetype": "text/x-python",
   "name": "python",
   "nbconvert_exporter": "python",
   "pygments_lexer": "ipython3",
   "version": "3.7.3"
  }
 },
 "nbformat": 4,
 "nbformat_minor": 2
}
