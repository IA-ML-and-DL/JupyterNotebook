{
 "cells": [
  {
   "cell_type": "code",
   "execution_count": 1,
   "metadata": {},
   "outputs": [],
   "source": [
    "import numpy as np"
   ]
  },
  {
   "cell_type": "code",
   "execution_count": 2,
   "metadata": {},
   "outputs": [
    {
     "data": {
      "text/plain": [
       "<module 'numpy' from 'C:\\\\Users\\\\hernveor\\\\Anaconda3\\\\lib\\\\site-packages\\\\numpy\\\\__init__.py'>"
      ]
     },
     "execution_count": 2,
     "metadata": {},
     "output_type": "execute_result"
    }
   ],
   "source": [
    "np"
   ]
  },
  {
   "cell_type": "markdown",
   "metadata": {},
   "source": [
    "### Un array tiene ttres componentes fundamentales:\n",
    "1. El array propiamente\n",
    "2. El objeto de tipo de datos\n",
    "3. El tipo de Escalar"
   ]
  },
  {
   "cell_type": "markdown",
   "metadata": {},
   "source": [
    "### Diferencia entre np.array(...) y np.ndarray(...)\n",
    "\n",
    "El método np.array(...) es el más utilizado comúnmente para crear arrays por construcción. Es el método recomendado por numpy oficial.\n",
    "\n",
    "Sin embargo, también existe el método np.ndarray(...), el cual es un método más de bajo nivel y más programático. De hecho, numpy.ndarray es la clase (tipo) del cual derivan todos los objetos de arrays.\n",
    "\n",
    "En otras palabras, en python prueba esto:\n",
    "```python\n",
    "isinstance(np.array([...]), np.ndarray)    # ===> True\n",
    "```\n",
    "\n",
    "lo cual significa que todo np.array(...) es una instancia derivada de la clase de np.ndarray(...), con todos sus atributos y métodos predeterminados.\n",
    "\n",
    "Así las cosas, np.ndarray(...) es más de bajo nivel programático, pero para efectos prácticos, crear matrices con np.array(...) es la forma recomendada (más las otras formas que veremos más adelante)>"
   ]
  },
  {
   "cell_type": "code",
   "execution_count": 3,
   "metadata": {},
   "outputs": [
    {
     "data": {
      "text/plain": [
       "array(1)"
      ]
     },
     "execution_count": 3,
     "metadata": {},
     "output_type": "execute_result"
    }
   ],
   "source": [
    "# Crear un array\n",
    "np.array(1)"
   ]
  },
  {
   "cell_type": "code",
   "execution_count": 6,
   "metadata": {},
   "outputs": [],
   "source": [
    "miArray2 = np.array(list([1,2,3,4,5]))"
   ]
  },
  {
   "cell_type": "code",
   "execution_count": 7,
   "metadata": {},
   "outputs": [
    {
     "data": {
      "text/plain": [
       "array([1, 2, 3, 4, 5])"
      ]
     },
     "execution_count": 7,
     "metadata": {},
     "output_type": "execute_result"
    }
   ],
   "source": [
    "miArray2"
   ]
  },
  {
   "cell_type": "code",
   "execution_count": 8,
   "metadata": {},
   "outputs": [],
   "source": [
    "miArray3 = np.array([1,2,3,4,5])"
   ]
  },
  {
   "cell_type": "code",
   "execution_count": 9,
   "metadata": {},
   "outputs": [
    {
     "data": {
      "text/plain": [
       "array([1, 2, 3, 4, 5])"
      ]
     },
     "execution_count": 9,
     "metadata": {},
     "output_type": "execute_result"
    }
   ],
   "source": [
    "miArray3"
   ]
  },
  {
   "cell_type": "code",
   "execution_count": 13,
   "metadata": {},
   "outputs": [
    {
     "data": {
      "text/plain": [
       "array([[1, 2],\n",
       "       [3, 4]])"
      ]
     },
     "execution_count": 13,
     "metadata": {},
     "output_type": "execute_result"
    }
   ],
   "source": [
    "# matriz 2x2\n",
    "np.array([[1, 2], [3, 4]])"
   ]
  },
  {
   "cell_type": "code",
   "execution_count": 14,
   "metadata": {},
   "outputs": [],
   "source": [
    "# matriz 3x3\n",
    "miMatriz3x3 = np.array([[1, 2, 3],[4, 5, 6],[7, 8, 9]])"
   ]
  },
  {
   "cell_type": "code",
   "execution_count": 15,
   "metadata": {},
   "outputs": [
    {
     "data": {
      "text/plain": [
       "array([[1, 2, 3],\n",
       "       [4, 5, 6],\n",
       "       [7, 8, 9]])"
      ]
     },
     "execution_count": 15,
     "metadata": {},
     "output_type": "execute_result"
    }
   ],
   "source": [
    "miMatriz3x3"
   ]
  },
  {
   "cell_type": "markdown",
   "metadata": {},
   "source": [
    "### Array con Valores Aleatorios\n",
    "```python\n",
    "np.random.randint()\n",
    "```"
   ]
  },
  {
   "cell_type": "code",
   "execution_count": 35,
   "metadata": {},
   "outputs": [],
   "source": [
    "aleatorio = np.random.randint(11, 20, 50)\n",
    "aleatorio2 = np.random.random(50)"
   ]
  },
  {
   "cell_type": "code",
   "execution_count": 36,
   "metadata": {},
   "outputs": [
    {
     "data": {
      "text/plain": [
       "array([19, 14, 19, 19, 18, 14, 18, 14, 11, 15, 18, 11, 16, 13, 18, 17, 12,\n",
       "       12, 15, 15, 13, 14, 19, 16, 19, 13, 13, 15, 13, 16, 12, 14, 12, 13,\n",
       "       16, 14, 17, 17, 16, 13, 18, 18, 12, 15, 16, 13, 18, 13, 12, 15])"
      ]
     },
     "execution_count": 36,
     "metadata": {},
     "output_type": "execute_result"
    }
   ],
   "source": [
    "aleatorio"
   ]
  },
  {
   "cell_type": "code",
   "execution_count": 37,
   "metadata": {},
   "outputs": [
    {
     "data": {
      "text/plain": [
       "array([0.05895056, 0.1537384 , 0.83964293, 0.18414411, 0.41219348,\n",
       "       0.33702869, 0.25446505, 0.63635377, 0.5607668 , 0.92010735,\n",
       "       0.74276338, 0.26819643, 0.24792611, 0.56460685, 0.35410724,\n",
       "       0.86647049, 0.66583959, 0.33924103, 0.16949843, 0.34315659,\n",
       "       0.54065787, 0.67857696, 0.24272001, 0.51286457, 0.8172537 ,\n",
       "       0.96477803, 0.79680361, 0.01313992, 0.21780068, 0.50032994,\n",
       "       0.94748529, 0.23016235, 0.99115947, 0.07338855, 0.41874324,\n",
       "       0.17177117, 0.5451382 , 0.32278078, 0.68722877, 0.87562222,\n",
       "       0.20707174, 0.89283676, 0.51621007, 0.68496591, 0.43100067,\n",
       "       0.08746835, 0.66085616, 0.34081118, 0.24205786, 0.3468933 ])"
      ]
     },
     "execution_count": 37,
     "metadata": {},
     "output_type": "execute_result"
    }
   ],
   "source": [
    "aleatorio2"
   ]
  },
  {
   "cell_type": "code",
   "execution_count": null,
   "metadata": {},
   "outputs": [],
   "source": []
  }
 ],
 "metadata": {
  "kernelspec": {
   "display_name": "Python 3",
   "language": "python",
   "name": "python3"
  },
  "language_info": {
   "codemirror_mode": {
    "name": "ipython",
    "version": 3
   },
   "file_extension": ".py",
   "mimetype": "text/x-python",
   "name": "python",
   "nbconvert_exporter": "python",
   "pygments_lexer": "ipython3",
   "version": "3.7.3"
  }
 },
 "nbformat": 4,
 "nbformat_minor": 2
}
