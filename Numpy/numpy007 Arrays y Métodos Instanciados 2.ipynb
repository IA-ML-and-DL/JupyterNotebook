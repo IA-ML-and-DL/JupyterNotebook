{
 "cells": [
  {
   "cell_type": "code",
   "execution_count": 76,
   "metadata": {},
   "outputs": [
    {
     "data": {
      "text/plain": [
       "array([8, 4, 0, 3, 9, 1, 0, 7, 4, 2, 9, 8, 0, 5, 8, 1, 1, 8, 5, 3, 4, 9,\n",
       "       8, 0, 4, 9, 3, 3, 2, 4, 5, 4, 2, 0, 0, 8, 1, 8, 0, 6, 1, 1, 1, 0,\n",
       "       1, 2, 8, 6, 5, 8])"
      ]
     },
     "execution_count": 76,
     "metadata": {},
     "output_type": "execute_result"
    }
   ],
   "source": [
    "import numpy as np\n",
    "arr = np.random.randint(0, 10, (50))\n",
    "arr"
   ]
  },
  {
   "cell_type": "markdown",
   "metadata": {},
   "source": [
    "## Para llamar los metodos, se debe usar ()"
   ]
  },
  {
   "cell_type": "markdown",
   "metadata": {},
   "source": [
    "np.min(), np.max"
   ]
  },
  {
   "cell_type": "code",
   "execution_count": 81,
   "metadata": {},
   "outputs": [
    {
     "data": {
      "text/plain": [
       "0"
      ]
     },
     "execution_count": 81,
     "metadata": {},
     "output_type": "execute_result"
    }
   ],
   "source": [
    "arr.min()"
   ]
  },
  {
   "cell_type": "code",
   "execution_count": 82,
   "metadata": {},
   "outputs": [
    {
     "data": {
      "text/plain": [
       "9"
      ]
     },
     "execution_count": 82,
     "metadata": {},
     "output_type": "execute_result"
    }
   ],
   "source": [
    "arr.max()"
   ]
  },
  {
   "cell_type": "markdown",
   "metadata": {},
   "source": [
    "### np.argmin, np.arrmax\n",
    "Posición del valor minimo y maximo respectivamente"
   ]
  },
  {
   "cell_type": "code",
   "execution_count": 83,
   "metadata": {},
   "outputs": [
    {
     "data": {
      "text/plain": [
       "2"
      ]
     },
     "execution_count": 83,
     "metadata": {},
     "output_type": "execute_result"
    }
   ],
   "source": [
    "arr.argmin()"
   ]
  },
  {
   "cell_type": "code",
   "execution_count": 84,
   "metadata": {},
   "outputs": [
    {
     "data": {
      "text/plain": [
       "4"
      ]
     },
     "execution_count": 84,
     "metadata": {},
     "output_type": "execute_result"
    }
   ],
   "source": [
    "arr.argmax()"
   ]
  },
  {
   "cell_type": "markdown",
   "metadata": {},
   "source": [
    "### np.mean()\n",
    "Promedio"
   ]
  },
  {
   "cell_type": "code",
   "execution_count": 85,
   "metadata": {},
   "outputs": [
    {
     "data": {
      "text/plain": [
       "3.98"
      ]
     },
     "execution_count": 85,
     "metadata": {},
     "output_type": "execute_result"
    }
   ],
   "source": [
    "arr.mean()"
   ]
  },
  {
   "cell_type": "markdown",
   "metadata": {},
   "source": [
    "### np.std()\n",
    "Desviación estandar"
   ]
  },
  {
   "cell_type": "code",
   "execution_count": 86,
   "metadata": {},
   "outputs": [
    {
     "data": {
      "text/plain": [
       "3.1144180836875446"
      ]
     },
     "execution_count": 86,
     "metadata": {},
     "output_type": "execute_result"
    }
   ],
   "source": [
    "arr.std()"
   ]
  },
  {
   "cell_type": "markdown",
   "metadata": {},
   "source": [
    "### np.cumsum(), np.cumprod\n",
    "Suma y producto acumulativo de cada elemento"
   ]
  },
  {
   "cell_type": "code",
   "execution_count": 87,
   "metadata": {},
   "outputs": [
    {
     "data": {
      "text/plain": [
       "array([8, 4, 0, 3, 9, 1, 0, 7, 4, 2, 9, 8, 0, 5, 8, 1, 1, 8, 5, 3, 4, 9,\n",
       "       8, 0, 4, 9, 3, 3, 2, 4, 5, 4, 2, 0, 0, 8, 1, 8, 0, 6, 1, 1, 1, 0,\n",
       "       1, 2, 8, 6, 5, 8])"
      ]
     },
     "execution_count": 87,
     "metadata": {},
     "output_type": "execute_result"
    }
   ],
   "source": [
    "arr"
   ]
  },
  {
   "cell_type": "code",
   "execution_count": 88,
   "metadata": {},
   "outputs": [
    {
     "data": {
      "text/plain": [
       "array([  8,  12,  12,  15,  24,  25,  25,  32,  36,  38,  47,  55,  55,\n",
       "        60,  68,  69,  70,  78,  83,  86,  90,  99, 107, 107, 111, 120,\n",
       "       123, 126, 128, 132, 137, 141, 143, 143, 143, 151, 152, 160, 160,\n",
       "       166, 167, 168, 169, 169, 170, 172, 180, 186, 191, 199], dtype=int32)"
      ]
     },
     "execution_count": 88,
     "metadata": {},
     "output_type": "execute_result"
    }
   ],
   "source": [
    "arr.cumsum()"
   ]
  },
  {
   "cell_type": "code",
   "execution_count": 89,
   "metadata": {},
   "outputs": [
    {
     "data": {
      "text/plain": [
       "array([ 8, 32,  0,  0,  0,  0,  0,  0,  0,  0,  0,  0,  0,  0,  0,  0,  0,\n",
       "        0,  0,  0,  0,  0,  0,  0,  0,  0,  0,  0,  0,  0,  0,  0,  0,  0,\n",
       "        0,  0,  0,  0,  0,  0,  0,  0,  0,  0,  0,  0,  0,  0,  0,  0],\n",
       "      dtype=int32)"
      ]
     },
     "execution_count": 89,
     "metadata": {},
     "output_type": "execute_result"
    }
   ],
   "source": [
    "arr.cumprod()"
   ]
  },
  {
   "cell_type": "markdown",
   "metadata": {},
   "source": [
    "### np.prod(), np.sum()\n",
    "Suma y producto"
   ]
  },
  {
   "cell_type": "code",
   "execution_count": 90,
   "metadata": {},
   "outputs": [
    {
     "data": {
      "text/plain": [
       "0"
      ]
     },
     "execution_count": 90,
     "metadata": {},
     "output_type": "execute_result"
    }
   ],
   "source": [
    "arr.prod()"
   ]
  },
  {
   "cell_type": "code",
   "execution_count": 91,
   "metadata": {},
   "outputs": [
    {
     "data": {
      "text/plain": [
       "199"
      ]
     },
     "execution_count": 91,
     "metadata": {},
     "output_type": "execute_result"
    }
   ],
   "source": [
    "arr.sum()"
   ]
  },
  {
   "cell_type": "markdown",
   "metadata": {},
   "source": [
    "## Redondeo"
   ]
  },
  {
   "cell_type": "code",
   "execution_count": 92,
   "metadata": {},
   "outputs": [
    {
     "data": {
      "text/plain": [
       "array([0.47058824, 0.23529412, 0.        , 0.17647059, 0.52941176,\n",
       "       0.05882353, 0.        , 0.41176471, 0.23529412, 0.11764706,\n",
       "       0.52941176, 0.47058824, 0.        , 0.29411765, 0.47058824,\n",
       "       0.05882353, 0.05882353, 0.47058824, 0.29411765, 0.17647059,\n",
       "       0.23529412, 0.52941176, 0.47058824, 0.        , 0.23529412,\n",
       "       0.52941176, 0.17647059, 0.17647059, 0.11764706, 0.23529412,\n",
       "       0.29411765, 0.23529412, 0.11764706, 0.        , 0.        ,\n",
       "       0.47058824, 0.05882353, 0.47058824, 0.        , 0.35294118,\n",
       "       0.05882353, 0.05882353, 0.05882353, 0.        , 0.05882353,\n",
       "       0.11764706, 0.47058824, 0.35294118, 0.29411765, 0.47058824])"
      ]
     },
     "execution_count": 92,
     "metadata": {},
     "output_type": "execute_result"
    }
   ],
   "source": [
    "arr / 17 # divido por 17 cada elemto"
   ]
  },
  {
   "cell_type": "code",
   "execution_count": 93,
   "metadata": {},
   "outputs": [
    {
     "data": {
      "text/plain": [
       "array([0.47, 0.24, 0.  , 0.18, 0.53, 0.06, 0.  , 0.41, 0.24, 0.12, 0.53,\n",
       "       0.47, 0.  , 0.29, 0.47, 0.06, 0.06, 0.47, 0.29, 0.18, 0.24, 0.53,\n",
       "       0.47, 0.  , 0.24, 0.53, 0.18, 0.18, 0.12, 0.24, 0.29, 0.24, 0.12,\n",
       "       0.  , 0.  , 0.47, 0.06, 0.47, 0.  , 0.35, 0.06, 0.06, 0.06, 0.  ,\n",
       "       0.06, 0.12, 0.47, 0.35, 0.29, 0.47])"
      ]
     },
     "execution_count": 93,
     "metadata": {},
     "output_type": "execute_result"
    }
   ],
   "source": [
    "(arr/ 17).round(2) #Divido por 17 cada elemento y lo redondeo a 2 decimales"
   ]
  },
  {
   "cell_type": "markdown",
   "metadata": {},
   "source": [
    "### np.reshape()\n",
    "Cambia las dimensiones"
   ]
  },
  {
   "cell_type": "code",
   "execution_count": 98,
   "metadata": {},
   "outputs": [
    {
     "data": {
      "text/plain": [
       "array([8, 4, 0, 3, 9, 1, 0, 7, 4, 2, 9, 8, 0, 5, 8, 1, 1, 8, 5, 3, 4, 9,\n",
       "       8, 0, 4, 9, 3, 3, 2, 4, 5, 4, 2, 0, 0, 8, 1, 8, 0, 6, 1, 1, 1, 0,\n",
       "       1, 2, 8, 6, 5, 8])"
      ]
     },
     "execution_count": 98,
     "metadata": {},
     "output_type": "execute_result"
    }
   ],
   "source": [
    "arr"
   ]
  },
  {
   "cell_type": "code",
   "execution_count": 99,
   "metadata": {},
   "outputs": [
    {
     "data": {
      "text/plain": [
       "array([[8, 4, 0, 3, 9, 1, 0, 7, 4, 2],\n",
       "       [9, 8, 0, 5, 8, 1, 1, 8, 5, 3],\n",
       "       [4, 9, 8, 0, 4, 9, 3, 3, 2, 4],\n",
       "       [5, 4, 2, 0, 0, 8, 1, 8, 0, 6],\n",
       "       [1, 1, 1, 0, 1, 2, 8, 6, 5, 8]])"
      ]
     },
     "execution_count": 99,
     "metadata": {},
     "output_type": "execute_result"
    }
   ],
   "source": [
    "arr.reshape(5, 10)"
   ]
  },
  {
   "cell_type": "code",
   "execution_count": 100,
   "metadata": {},
   "outputs": [
    {
     "data": {
      "text/plain": [
       "array([8, 4, 0, 3, 9, 1, 0, 7, 4, 2, 9, 8, 0, 5, 8, 1, 1, 8, 5, 3, 4, 9,\n",
       "       8, 0, 4, 9, 3, 3, 2, 4, 5, 4, 2, 0, 0, 8, 1, 8, 0, 6, 1, 1, 1, 0,\n",
       "       1, 2, 8, 6, 5, 8])"
      ]
     },
     "execution_count": 100,
     "metadata": {},
     "output_type": "execute_result"
    }
   ],
   "source": [
    "arr"
   ]
  },
  {
   "cell_type": "code",
   "execution_count": 106,
   "metadata": {},
   "outputs": [
    {
     "data": {
      "text/plain": [
       "(5, 10)"
      ]
     },
     "execution_count": 106,
     "metadata": {},
     "output_type": "execute_result"
    }
   ],
   "source": [
    "arr.reshape((5, 10)).shape"
   ]
  },
  {
   "cell_type": "markdown",
   "metadata": {},
   "source": [
    "### np.sort\n",
    "Ordena la matriz, los cambios los hace sobre la misma matriz, la sobreescribe"
   ]
  },
  {
   "cell_type": "code",
   "execution_count": 112,
   "metadata": {},
   "outputs": [
    {
     "data": {
      "text/plain": [
       "array([0, 0, 0, 0, 0, 0, 0, 0, 1, 1, 1, 1, 1, 1, 1, 1, 2, 2, 2, 2, 3, 3,\n",
       "       3, 3, 4, 4, 4, 4, 4, 4, 5, 5, 5, 5, 6, 6, 7, 8, 8, 8, 8, 8, 8, 8,\n",
       "       8, 8, 9, 9, 9, 9])"
      ]
     },
     "execution_count": 112,
     "metadata": {},
     "output_type": "execute_result"
    }
   ],
   "source": [
    "arr"
   ]
  },
  {
   "cell_type": "raw",
   "metadata": {},
   "source": [
    "arr.sort()"
   ]
  },
  {
   "cell_type": "raw",
   "metadata": {},
   "source": [
    "arr"
   ]
  },
  {
   "cell_type": "markdown",
   "metadata": {},
   "source": [
    "np.sort() es in-place, singinica que altera la matriz original\n",
    "si deseo conservar la primer matriz con su orden, debo crear una copia de esta primero"
   ]
  },
  {
   "cell_type": "code",
   "execution_count": 117,
   "metadata": {},
   "outputs": [],
   "source": [
    "arr = np.random.randint(0, 10, (50))\n",
    "arr2 = arr.copy()\n",
    "arr2.sort()"
   ]
  },
  {
   "cell_type": "code",
   "execution_count": 119,
   "metadata": {},
   "outputs": [
    {
     "data": {
      "text/plain": [
       "array([0, 7, 0, 7, 6, 5, 1, 3, 0, 7, 3, 3, 9, 7, 6, 1, 2, 2, 9, 9, 5, 2,\n",
       "       7, 3, 9, 9, 2, 3, 3, 3, 1, 8, 0, 6, 9, 5, 6, 9, 1, 6, 5, 7, 9, 3,\n",
       "       5, 1, 8, 6, 9, 5])"
      ]
     },
     "execution_count": 119,
     "metadata": {},
     "output_type": "execute_result"
    }
   ],
   "source": [
    "arr"
   ]
  },
  {
   "cell_type": "code",
   "execution_count": 120,
   "metadata": {},
   "outputs": [
    {
     "data": {
      "text/plain": [
       "array([0, 0, 0, 0, 1, 1, 1, 1, 1, 2, 2, 2, 2, 3, 3, 3, 3, 3, 3, 3, 3, 5,\n",
       "       5, 5, 5, 5, 5, 6, 6, 6, 6, 6, 6, 7, 7, 7, 7, 7, 7, 8, 8, 9, 9, 9,\n",
       "       9, 9, 9, 9, 9, 9])"
      ]
     },
     "execution_count": 120,
     "metadata": {},
     "output_type": "execute_result"
    }
   ],
   "source": [
    "arr2"
   ]
  },
  {
   "cell_type": "code",
   "execution_count": null,
   "metadata": {},
   "outputs": [],
   "source": []
  }
 ],
 "metadata": {
  "kernelspec": {
   "display_name": "Python 3",
   "language": "python",
   "name": "python3"
  },
  "language_info": {
   "codemirror_mode": {
    "name": "ipython",
    "version": 3
   },
   "file_extension": ".py",
   "mimetype": "text/x-python",
   "name": "python",
   "nbconvert_exporter": "python",
   "pygments_lexer": "ipython3",
   "version": "3.7.3"
  }
 },
 "nbformat": 4,
 "nbformat_minor": 2
}
