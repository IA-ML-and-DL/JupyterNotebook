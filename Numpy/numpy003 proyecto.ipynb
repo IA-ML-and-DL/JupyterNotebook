{
 "cells": [
  {
   "cell_type": "markdown",
   "metadata": {},
   "source": [
    "Seleccionar todos los datos de una matriz 10x10 excepto las filas y columnas de los bordes"
   ]
  },
  {
   "cell_type": "code",
   "execution_count": 11,
   "metadata": {},
   "outputs": [],
   "source": [
    "import numpy as np\n",
    "arr = np.random.randint(0, 10, size=(10,10))"
   ]
  },
  {
   "cell_type": "code",
   "execution_count": 12,
   "metadata": {},
   "outputs": [
    {
     "data": {
      "text/plain": [
       "array([[4, 1, 2, 8, 3, 3, 7, 7, 6, 3],\n",
       "       [9, 1, 3, 0, 8, 4, 1, 8, 4, 4],\n",
       "       [0, 5, 6, 7, 1, 0, 0, 3, 4, 0],\n",
       "       [2, 6, 4, 3, 0, 6, 1, 6, 1, 6],\n",
       "       [2, 2, 5, 6, 3, 5, 1, 3, 8, 3],\n",
       "       [9, 4, 5, 6, 0, 6, 0, 3, 7, 4],\n",
       "       [1, 3, 7, 1, 6, 2, 8, 6, 1, 2],\n",
       "       [1, 5, 3, 6, 1, 6, 8, 6, 2, 3],\n",
       "       [5, 2, 3, 3, 3, 4, 9, 2, 9, 7],\n",
       "       [0, 0, 1, 4, 1, 0, 4, 3, 3, 7]])"
      ]
     },
     "execution_count": 12,
     "metadata": {},
     "output_type": "execute_result"
    }
   ],
   "source": [
    "arr"
   ]
  },
  {
   "cell_type": "code",
   "execution_count": 13,
   "metadata": {},
   "outputs": [
    {
     "data": {
      "text/plain": [
       "array([[1, 3, 0, 8, 4, 1, 8, 4],\n",
       "       [5, 6, 7, 1, 0, 0, 3, 4],\n",
       "       [6, 4, 3, 0, 6, 1, 6, 1],\n",
       "       [2, 5, 6, 3, 5, 1, 3, 8],\n",
       "       [4, 5, 6, 0, 6, 0, 3, 7],\n",
       "       [3, 7, 1, 6, 2, 8, 6, 1],\n",
       "       [5, 3, 6, 1, 6, 8, 6, 2],\n",
       "       [2, 3, 3, 3, 4, 9, 2, 9]])"
      ]
     },
     "execution_count": 13,
     "metadata": {},
     "output_type": "execute_result"
    }
   ],
   "source": [
    "arr[1:9, 1:9]"
   ]
  },
  {
   "cell_type": "code",
   "execution_count": 14,
   "metadata": {},
   "outputs": [
    {
     "data": {
      "text/plain": [
       "array([[1, 3, 0, 8, 4, 1, 8, 4],\n",
       "       [5, 6, 7, 1, 0, 0, 3, 4],\n",
       "       [6, 4, 3, 0, 6, 1, 6, 1],\n",
       "       [2, 5, 6, 3, 5, 1, 3, 8],\n",
       "       [4, 5, 6, 0, 6, 0, 3, 7],\n",
       "       [3, 7, 1, 6, 2, 8, 6, 1],\n",
       "       [5, 3, 6, 1, 6, 8, 6, 2],\n",
       "       [2, 3, 3, 3, 4, 9, 2, 9]])"
      ]
     },
     "execution_count": 14,
     "metadata": {},
     "output_type": "execute_result"
    }
   ],
   "source": [
    "# Usando indexación negativa\n",
    "arr[1:-1, 1:-1]"
   ]
  }
 ],
 "metadata": {
  "kernelspec": {
   "display_name": "Python 3",
   "language": "python",
   "name": "python3"
  },
  "language_info": {
   "codemirror_mode": {
    "name": "ipython",
    "version": 3
   },
   "file_extension": ".py",
   "mimetype": "text/x-python",
   "name": "python",
   "nbconvert_exporter": "python",
   "pygments_lexer": "ipython3",
   "version": "3.7.3"
  }
 },
 "nbformat": 4,
 "nbformat_minor": 2
}
