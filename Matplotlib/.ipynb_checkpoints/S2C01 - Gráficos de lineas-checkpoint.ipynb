{
 "cells": [
  {
   "cell_type": "code",
   "execution_count": 47,
   "metadata": {},
   "outputs": [],
   "source": [
    "import pandas as pd\n",
    "import matplotlib.pyplot as plt\n",
    "\n",
    "from matplotlib.ticker import AutoMinorLocator, FuncFormatter\n",
    "\n",
    "%matplotlib inline"
   ]
  },
  {
   "cell_type": "code",
   "execution_count": 8,
   "metadata": {},
   "outputs": [
    {
     "data": {
      "text/html": [
       "<div>\n",
       "<style scoped>\n",
       "    .dataframe tbody tr th:only-of-type {\n",
       "        vertical-align: middle;\n",
       "    }\n",
       "\n",
       "    .dataframe tbody tr th {\n",
       "        vertical-align: top;\n",
       "    }\n",
       "\n",
       "    .dataframe thead th {\n",
       "        text-align: right;\n",
       "    }\n",
       "</style>\n",
       "<table border=\"1\" class=\"dataframe\">\n",
       "  <thead>\n",
       "    <tr style=\"text-align: right;\">\n",
       "      <th></th>\n",
       "      <th>Europa</th>\n",
       "      <th>Latam</th>\n",
       "      <th>USA</th>\n",
       "      <th>Mundo</th>\n",
       "    </tr>\n",
       "    <tr>\n",
       "      <th>Pais</th>\n",
       "      <th></th>\n",
       "      <th></th>\n",
       "      <th></th>\n",
       "      <th></th>\n",
       "    </tr>\n",
       "  </thead>\n",
       "  <tbody>\n",
       "    <tr>\n",
       "      <th>1962</th>\n",
       "      <td>270324828</td>\n",
       "      <td>232897323</td>\n",
       "      <td>186538000</td>\n",
       "      <td>3126522093</td>\n",
       "    </tr>\n",
       "    <tr>\n",
       "      <th>1963</th>\n",
       "      <td>272876447</td>\n",
       "      <td>239401268</td>\n",
       "      <td>189242000</td>\n",
       "      <td>3191775835</td>\n",
       "    </tr>\n",
       "    <tr>\n",
       "      <th>1964</th>\n",
       "      <td>275382197</td>\n",
       "      <td>246016368</td>\n",
       "      <td>191889000</td>\n",
       "      <td>3257440880</td>\n",
       "    </tr>\n",
       "    <tr>\n",
       "      <th>1965</th>\n",
       "      <td>277856703</td>\n",
       "      <td>252710310</td>\n",
       "      <td>194303000</td>\n",
       "      <td>3324538968</td>\n",
       "    </tr>\n",
       "    <tr>\n",
       "      <th>1966</th>\n",
       "      <td>280147494</td>\n",
       "      <td>259468669</td>\n",
       "      <td>196560000</td>\n",
       "      <td>3394809860</td>\n",
       "    </tr>\n",
       "  </tbody>\n",
       "</table>\n",
       "</div>"
      ],
      "text/plain": [
       "         Europa      Latam        USA       Mundo\n",
       "Pais                                             \n",
       "1962  270324828  232897323  186538000  3126522093\n",
       "1963  272876447  239401268  189242000  3191775835\n",
       "1964  275382197  246016368  191889000  3257440880\n",
       "1965  277856703  252710310  194303000  3324538968\n",
       "1966  280147494  259468669  196560000  3394809860"
      ]
     },
     "execution_count": 8,
     "metadata": {},
     "output_type": "execute_result"
    }
   ],
   "source": [
    "df = pd.read_csv(\"DB/original.csv\", sep=\";\", index_col=0)\n",
    "df.head() # primeros registros"
   ]
  },
  {
   "cell_type": "code",
   "execution_count": 9,
   "metadata": {},
   "outputs": [
    {
     "data": {
      "text/html": [
       "<div>\n",
       "<style scoped>\n",
       "    .dataframe tbody tr th:only-of-type {\n",
       "        vertical-align: middle;\n",
       "    }\n",
       "\n",
       "    .dataframe tbody tr th {\n",
       "        vertical-align: top;\n",
       "    }\n",
       "\n",
       "    .dataframe thead th {\n",
       "        text-align: right;\n",
       "    }\n",
       "</style>\n",
       "<table border=\"1\" class=\"dataframe\">\n",
       "  <thead>\n",
       "    <tr style=\"text-align: right;\">\n",
       "      <th></th>\n",
       "      <th>Europa</th>\n",
       "      <th>Latam</th>\n",
       "      <th>USA</th>\n",
       "      <th>Mundo</th>\n",
       "    </tr>\n",
       "    <tr>\n",
       "      <th>Pais</th>\n",
       "      <th></th>\n",
       "      <th></th>\n",
       "      <th></th>\n",
       "      <th></th>\n",
       "    </tr>\n",
       "  </thead>\n",
       "  <tbody>\n",
       "    <tr>\n",
       "      <th>2013</th>\n",
       "      <td>337302116</td>\n",
       "      <td>617495658</td>\n",
       "      <td>316057727</td>\n",
       "      <td>7184861447</td>\n",
       "    </tr>\n",
       "    <tr>\n",
       "      <th>2014</th>\n",
       "      <td>338466271</td>\n",
       "      <td>624335544</td>\n",
       "      <td>318386421</td>\n",
       "      <td>7271057715</td>\n",
       "    </tr>\n",
       "    <tr>\n",
       "      <th>2015</th>\n",
       "      <td>339533474</td>\n",
       "      <td>631062646</td>\n",
       "      <td>320742673</td>\n",
       "      <td>7357233590</td>\n",
       "    </tr>\n",
       "    <tr>\n",
       "      <th>2016</th>\n",
       "      <td>340616862</td>\n",
       "      <td>637663866</td>\n",
       "      <td>323071342</td>\n",
       "      <td>7443810911</td>\n",
       "    </tr>\n",
       "    <tr>\n",
       "      <th>2017</th>\n",
       "      <td>341443382</td>\n",
       "      <td>644124651</td>\n",
       "      <td>325147121</td>\n",
       "      <td>7529719387</td>\n",
       "    </tr>\n",
       "  </tbody>\n",
       "</table>\n",
       "</div>"
      ],
      "text/plain": [
       "         Europa      Latam        USA       Mundo\n",
       "Pais                                             \n",
       "2013  337302116  617495658  316057727  7184861447\n",
       "2014  338466271  624335544  318386421  7271057715\n",
       "2015  339533474  631062646  320742673  7357233590\n",
       "2016  340616862  637663866  323071342  7443810911\n",
       "2017  341443382  644124651  325147121  7529719387"
      ]
     },
     "execution_count": 9,
     "metadata": {},
     "output_type": "execute_result"
    }
   ],
   "source": [
    "df.tail() #ultimos registros"
   ]
  },
  {
   "cell_type": "markdown",
   "metadata": {},
   "source": [
    "### Gráfica"
   ]
  },
  {
   "cell_type": "code",
   "execution_count": 62,
   "metadata": {},
   "outputs": [
    {
     "data": {
      "image/png": "[encoded data removed]",
      "text/plain": [
       "<Figure size 1080x576 with 1 Axes>"
      ]
     },
     "metadata": {
      "needs_background": "light"
     },
     "output_type": "display_data"
    }
   ],
   "source": [
    "fig, ax = plt.subplots(figsize = (15,8))\n",
    "\n",
    "plt.plot(df['Mundo'], lw = 2, color=(25/255,25/255,112/255)) # lw= grosor de la linea\n",
    "\n",
    "# Cuadricula\n",
    "ax.grid(linestyle='--', alpha=0.5)\n",
    "\n",
    "#quitar spines\n",
    "ax.spines['top'].set_alpha(0.0)\n",
    "ax.spines['right'].set_alpha(0.0)\n",
    "ax.spines['left'].set_alpha(0.5)\n",
    "ax.spines['bottom'].set_alpha(0.5)\n",
    "\n",
    "#ticks eje x\n",
    "ax.tick_params(axis = 'y', which = 'major', color = (0,0,0,0.5), length=10, direction='inout'\n",
    "              , labelrotation=45)\n",
    "# los ticks pueden in adentro o afuera (out), adentro (in, en ambos ladodos (inout))\n",
    "\n",
    "ax.set_yticklabels(ax.get_yticklabels(), va='center') #centrar las etiquelas\n",
    "#ticks eje y\n",
    "\n",
    "ax.tick_params(axis = 'x', which = 'major', color = (0,0,0,0.5), length=10, direction='inout')\n",
    "\n",
    "ax.xaxis.set_minor_locator(AutoMinorLocator(2))\n",
    "ax.yaxis.set_minor_locator(AutoMinorLocator(2))\n",
    "\n",
    "ax.tick_params(axis = 'both', which = 'minor', direction= 'in', length=5, color=(0,0,0,0.5)) # este es el valor por defecto axis = 'both'\n",
    "\n",
    "# formato de y ticks\n",
    "\n",
    "def formato(x, pos):\n",
    "    return \"%.1f Bn\"%(x/1000000000)\n",
    "\n",
    "ax.yaxis.set_major_formatter(FuncFormatter(formato))\n",
    "\n",
    "plt.show()"
   ]
  },
  {
   "cell_type": "code",
   "execution_count": 60,
   "metadata": {},
   "outputs": [
    {
     "data": {
      "text/plain": [
       "[Text(1950.0, 0, '1950'),\n",
       " Text(1960.0, 0, '1960'),\n",
       " Text(1970.0, 0, '1970'),\n",
       " Text(1980.0, 0, '1980'),\n",
       " Text(1990.0, 0, '1990'),\n",
       " Text(2000.0, 0, '2000'),\n",
       " Text(2010.0, 0, '2010'),\n",
       " Text(2020.0, 0, '2020')]"
      ]
     },
     "execution_count": 60,
     "metadata": {},
     "output_type": "execute_result"
    }
   ],
   "source": [
    "list(ax.get_xticklabels())"
   ]
  },
  {
   "cell_type": "code",
   "execution_count": null,
   "metadata": {},
   "outputs": [],
   "source": []
  }
 ],
 "metadata": {
  "kernelspec": {
   "display_name": "Python 3",
   "language": "python",
   "name": "python3"
  },
  "language_info": {
   "codemirror_mode": {
    "name": "ipython",
    "version": 3
   },
   "file_extension": ".py",
   "mimetype": "text/x-python",
   "name": "python",
   "nbconvert_exporter": "python",
   "pygments_lexer": "ipython3",
   "version": "3.7.3"
  }
 },
 "nbformat": 4,
 "nbformat_minor": 2
}
