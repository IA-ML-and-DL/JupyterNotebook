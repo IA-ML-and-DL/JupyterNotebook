{
 "cells": [
  {
   "cell_type": "code",
   "execution_count": 1,
   "metadata": {},
   "outputs": [],
   "source": [
    "import pandas as pd\n",
    "import matplotlib.pyplot as plt\n",
    "\n",
    "from matplotlib.ticker import AutoMinorLocator, FuncFormatter\n",
    "\n",
    "%matplotlib inline"
   ]
  },
  {
   "cell_type": "code",
   "execution_count": 2,
   "metadata": {},
   "outputs": [
    {
     "data": {
      "text/html": [
       "<div>\n",
       "<style scoped>\n",
       "    .dataframe tbody tr th:only-of-type {\n",
       "        vertical-align: middle;\n",
       "    }\n",
       "\n",
       "    .dataframe tbody tr th {\n",
       "        vertical-align: top;\n",
       "    }\n",
       "\n",
       "    .dataframe thead th {\n",
       "        text-align: right;\n",
       "    }\n",
       "</style>\n",
       "<table border=\"1\" class=\"dataframe\">\n",
       "  <thead>\n",
       "    <tr style=\"text-align: right;\">\n",
       "      <th></th>\n",
       "      <th>Europa</th>\n",
       "      <th>Latam</th>\n",
       "      <th>USA</th>\n",
       "      <th>Mundo</th>\n",
       "    </tr>\n",
       "    <tr>\n",
       "      <th>Pais</th>\n",
       "      <th></th>\n",
       "      <th></th>\n",
       "      <th></th>\n",
       "      <th></th>\n",
       "    </tr>\n",
       "  </thead>\n",
       "  <tbody>\n",
       "    <tr>\n",
       "      <th>1962</th>\n",
       "      <td>270324828</td>\n",
       "      <td>232897323</td>\n",
       "      <td>186538000</td>\n",
       "      <td>3126522093</td>\n",
       "    </tr>\n",
       "    <tr>\n",
       "      <th>1963</th>\n",
       "      <td>272876447</td>\n",
       "      <td>239401268</td>\n",
       "      <td>189242000</td>\n",
       "      <td>3191775835</td>\n",
       "    </tr>\n",
       "    <tr>\n",
       "      <th>1964</th>\n",
       "      <td>275382197</td>\n",
       "      <td>246016368</td>\n",
       "      <td>191889000</td>\n",
       "      <td>3257440880</td>\n",
       "    </tr>\n",
       "    <tr>\n",
       "      <th>1965</th>\n",
       "      <td>277856703</td>\n",
       "      <td>252710310</td>\n",
       "      <td>194303000</td>\n",
       "      <td>3324538968</td>\n",
       "    </tr>\n",
       "    <tr>\n",
       "      <th>1966</th>\n",
       "      <td>280147494</td>\n",
       "      <td>259468669</td>\n",
       "      <td>196560000</td>\n",
       "      <td>3394809860</td>\n",
       "    </tr>\n",
       "  </tbody>\n",
       "</table>\n",
       "</div>"
      ],
      "text/plain": [
       "         Europa      Latam        USA       Mundo\n",
       "Pais                                             \n",
       "1962  270324828  232897323  186538000  3126522093\n",
       "1963  272876447  239401268  189242000  3191775835\n",
       "1964  275382197  246016368  191889000  3257440880\n",
       "1965  277856703  252710310  194303000  3324538968\n",
       "1966  280147494  259468669  196560000  3394809860"
      ]
     },
     "execution_count": 2,
     "metadata": {},
     "output_type": "execute_result"
    }
   ],
   "source": [
    "df = pd.read_csv(\"DB/original.csv\", sep=\";\", index_col=0)\n",
    "df.head() # primeros registros"
   ]
  },
  {
   "cell_type": "code",
   "execution_count": 3,
   "metadata": {},
   "outputs": [
    {
     "data": {
      "text/html": [
       "<div>\n",
       "<style scoped>\n",
       "    .dataframe tbody tr th:only-of-type {\n",
       "        vertical-align: middle;\n",
       "    }\n",
       "\n",
       "    .dataframe tbody tr th {\n",
       "        vertical-align: top;\n",
       "    }\n",
       "\n",
       "    .dataframe thead th {\n",
       "        text-align: right;\n",
       "    }\n",
       "</style>\n",
       "<table border=\"1\" class=\"dataframe\">\n",
       "  <thead>\n",
       "    <tr style=\"text-align: right;\">\n",
       "      <th></th>\n",
       "      <th>Europa</th>\n",
       "      <th>Latam</th>\n",
       "      <th>USA</th>\n",
       "      <th>Mundo</th>\n",
       "    </tr>\n",
       "    <tr>\n",
       "      <th>Pais</th>\n",
       "      <th></th>\n",
       "      <th></th>\n",
       "      <th></th>\n",
       "      <th></th>\n",
       "    </tr>\n",
       "  </thead>\n",
       "  <tbody>\n",
       "    <tr>\n",
       "      <th>2013</th>\n",
       "      <td>337302116</td>\n",
       "      <td>617495658</td>\n",
       "      <td>316057727</td>\n",
       "      <td>7184861447</td>\n",
       "    </tr>\n",
       "    <tr>\n",
       "      <th>2014</th>\n",
       "      <td>338466271</td>\n",
       "      <td>624335544</td>\n",
       "      <td>318386421</td>\n",
       "      <td>7271057715</td>\n",
       "    </tr>\n",
       "    <tr>\n",
       "      <th>2015</th>\n",
       "      <td>339533474</td>\n",
       "      <td>631062646</td>\n",
       "      <td>320742673</td>\n",
       "      <td>7357233590</td>\n",
       "    </tr>\n",
       "    <tr>\n",
       "      <th>2016</th>\n",
       "      <td>340616862</td>\n",
       "      <td>637663866</td>\n",
       "      <td>323071342</td>\n",
       "      <td>7443810911</td>\n",
       "    </tr>\n",
       "    <tr>\n",
       "      <th>2017</th>\n",
       "      <td>341443382</td>\n",
       "      <td>644124651</td>\n",
       "      <td>325147121</td>\n",
       "      <td>7529719387</td>\n",
       "    </tr>\n",
       "  </tbody>\n",
       "</table>\n",
       "</div>"
      ],
      "text/plain": [
       "         Europa      Latam        USA       Mundo\n",
       "Pais                                             \n",
       "2013  337302116  617495658  316057727  7184861447\n",
       "2014  338466271  624335544  318386421  7271057715\n",
       "2015  339533474  631062646  320742673  7357233590\n",
       "2016  340616862  637663866  323071342  7443810911\n",
       "2017  341443382  644124651  325147121  7529719387"
      ]
     },
     "execution_count": 3,
     "metadata": {},
     "output_type": "execute_result"
    }
   ],
   "source": [
    "df.tail() #ultimos registros"
   ]
  },
  {
   "cell_type": "markdown",
   "metadata": {},
   "source": [
    "### Gráfica"
   ]
  },
  {
   "cell_type": "code",
   "execution_count": 4,
   "metadata": {},
   "outputs": [
    {
     "data": {
      "image/png": "[encoded data removed]",
      "text/plain": [
       "<Figure size 1080x576 with 1 Axes>"
      ]
     },
     "metadata": {
      "needs_background": "light"
     },
     "output_type": "display_data"
    }
   ],
   "source": [
    "fig, ax = plt.subplots(figsize = (15,8))\n",
    "\n",
    "plt.plot(df['Mundo'], lw = 2, color=(25/255,25/255,112/255)) # lw= grosor de la linea\n",
    "\n",
    "# Cuadricula\n",
    "ax.grid(linestyle='--', alpha=0.5)\n",
    "\n",
    "#quitar spines\n",
    "ax.spines['top'].set_alpha(0.0)\n",
    "ax.spines['right'].set_alpha(0.0)\n",
    "ax.spines['left'].set_alpha(0.5)\n",
    "ax.spines['bottom'].set_alpha(0.5)\n",
    "\n",
    "#ticks eje x\n",
    "ax.tick_params(axis = 'y', which = 'major', color = (0,0,0,0.5), length=10, direction='inout'\n",
    "              , labelrotation=45)\n",
    "# los ticks pueden in adentro o afuera (out), adentro (in, en ambos ladodos (inout))\n",
    "\n",
    "ax.set_yticklabels(ax.get_yticklabels(), va='center') #centrar las etiquelas\n",
    "#ticks eje y\n",
    "\n",
    "ax.tick_params(axis = 'x', which = 'major', color = (0,0,0,0.5), length=10, direction='inout')\n",
    "\n",
    "ax.xaxis.set_minor_locator(AutoMinorLocator(2))\n",
    "ax.yaxis.set_minor_locator(AutoMinorLocator(2))\n",
    "\n",
    "ax.tick_params(axis = 'both', which = 'minor', direction= 'in', length=5, color=(0,0,0,0.5)) # este es el valor por defecto axis = 'both'\n",
    "\n",
    "# formato de y ticks\n",
    "\n",
    "def formato(x, pos):\n",
    "    return \"%.1f Bn\"%(x/1000000000)\n",
    "\n",
    "ax.yaxis.set_major_formatter(FuncFormatter(formato))\n",
    "\n",
    "# Titulos y etiquetas\n",
    "ax.set_title(\"Población\",fontsize=30, fontstyle='italic', fontname='Arial')\n",
    "ax.set_xlabel(\"Año\", fontsize=15, fontname=\"Arial\")\n",
    "ax.set_ylabel(\"Cantidad personas\", fontsize=15, fontname=\"Arial\")\n",
    "\n",
    "#texto al final de la linea, con cantidad de personas hoy\n",
    "# esta etiqueta la dejamos dinamica, al cambiar los datos, cambia la posición del texto\n",
    "ax.text(df.index[-1], df['Mundo'].iloc[-1], \n",
    "       \"Hoy tenemos \\n %.2f millones\"%(df['Mundo'].iloc[-1]/1000000),\n",
    "       fontname=\"Arial\", fontsize=16, color=(61/255,89/255,171/255), fontstyle=\"italic\")\n",
    "\n",
    "plt.show()"
   ]
  },
  {
   "cell_type": "code",
   "execution_count": 5,
   "metadata": {},
   "outputs": [
    {
     "data": {
      "text/plain": [
       "Int64Index([1962, 1963, 1964, 1965, 1966, 1967, 1968, 1969, 1970, 1971, 1972,\n",
       "            1973, 1974, 1975, 1976, 1977, 1978, 1979, 1980, 1981, 1982, 1983,\n",
       "            1984, 1985, 1986, 1987, 1988, 1989, 1990, 1991, 1992, 1993, 1994,\n",
       "            1995, 1996, 1997, 1998, 1999, 2000, 2001, 2002, 2003, 2004, 2005,\n",
       "            2006, 2007, 2008, 2009, 2010, 2011, 2012, 2013, 2014, 2015, 2016,\n",
       "            2017],\n",
       "           dtype='int64', name='Pais')"
      ]
     },
     "execution_count": 5,
     "metadata": {},
     "output_type": "execute_result"
    }
   ],
   "source": [
    "df.index # vector con lo datos, el ultimo es df.index[-1]"
   ]
  },
  {
   "cell_type": "code",
   "execution_count": 7,
   "metadata": {},
   "outputs": [
    {
     "data": {
      "text/plain": [
       "2017"
      ]
     },
     "execution_count": 7,
     "metadata": {},
     "output_type": "execute_result"
    }
   ],
   "source": [
    "df.index[-1]"
   ]
  },
  {
   "cell_type": "code",
   "execution_count": null,
   "metadata": {},
   "outputs": [],
   "source": []
  }
 ],
 "metadata": {
  "kernelspec": {
   "display_name": "Python 3",
   "language": "python",
   "name": "python3"
  },
  "language_info": {
   "codemirror_mode": {
    "name": "ipython",
    "version": 3
   },
   "file_extension": ".py",
   "mimetype": "text/x-python",
   "name": "python",
   "nbconvert_exporter": "python",
   "pygments_lexer": "ipython3",
   "version": "3.7.3"
  }
 },
 "nbformat": 4,
 "nbformat_minor": 2
}
